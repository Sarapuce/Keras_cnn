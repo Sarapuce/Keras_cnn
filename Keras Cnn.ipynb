{
 "cells": [
  {
   "cell_type": "code",
   "execution_count": 3,
   "metadata": {},
   "outputs": [
    {
     "name": "stderr",
     "output_type": "stream",
     "text": [
      "Using TensorFlow backend.\n"
     ]
    }
   ],
   "source": [
    "import numpy as np\n",
    "import random\n",
    "import tensorflow as tf\n",
    "import matplotlib.pyplot as plt\n",
    "import keras.applications as app\n",
    "import keras.layers as kl\n",
    "from sklearn.datasets import load_digits\n",
    "from keras.models import Model\n",
    "from keras.optimizers import Adagrad\n",
    "from keras.preprocessing.image import ImageDataGenerator\n",
    "from time import time"
   ]
  },
  {
   "cell_type": "code",
   "execution_count": 61,
   "metadata": {},
   "outputs": [],
   "source": [
    "mnist = tf.keras.datasets.mnist"
   ]
  },
  {
   "cell_type": "code",
   "execution_count": 89,
   "metadata": {},
   "outputs": [],
   "source": [
    "(x_train, y_train),(x_test, y_test) = mnist.load_data()\n",
    "x_train, x_test = x_train / 255.0, x_test / 255.0\n",
    "\n",
    "x_train = np.reshape(x_train, (60000, 28, 28, 1))\n",
    "x_test  = np.reshape(x_test, (10000, 28, 28, 1))\n",
    "\n",
    "y_test2 = np.zeros((10000, 10))\n",
    "for j, i in enumerate(y_test):\n",
    "    y_test2[j, i] = 1\n",
    "y_test = y_test2\n",
    "\n",
    "y_train2 = np.zeros((60000, 10))\n",
    "for j, i in enumerate(y_train):\n",
    "    y_train2[j, i] = 1\n",
    "y_train = y_train2"
   ]
  },
  {
   "cell_type": "code",
   "execution_count": 90,
   "metadata": {},
   "outputs": [],
   "source": [
    "input_layer = kl.Input(shape=(28, 28, 1))"
   ]
  },
  {
   "cell_type": "code",
   "execution_count": 91,
   "metadata": {},
   "outputs": [],
   "source": [
    "x = kl.Conv2D(8, 2, activation='relu', padding='valid')(input_layer)\n",
    "x = kl.MaxPooling2D()(x)\n",
    "x = kl.Conv2D(16, 2, activation='relu', padding='valid')(x)\n",
    "x = kl.MaxPooling2D()(x)\n",
    "x = kl.Flatten()(x)\n",
    "x = kl.Dense(256, activation='relu')(x)\n",
    "x = kl.Dropout(0.5)(x)\n",
    "x = kl.Dense(10, activation='softmax')(x)"
   ]
  },
  {
   "cell_type": "code",
   "execution_count": 92,
   "metadata": {},
   "outputs": [],
   "source": [
    "model = Model(input_layer, x, name='test')"
   ]
  },
  {
   "cell_type": "code",
   "execution_count": 93,
   "metadata": {},
   "outputs": [],
   "source": [
    "opt = Adagrad()"
   ]
  },
  {
   "cell_type": "code",
   "execution_count": 94,
   "metadata": {},
   "outputs": [],
   "source": [
    "model.compile(loss=\"categorical_crossentropy\", optimizer=opt,\n",
    "              metrics=[\"accuracy\"])"
   ]
  },
  {
   "cell_type": "code",
   "execution_count": 95,
   "metadata": {},
   "outputs": [],
   "source": [
    "data_gen = ImageDataGenerator()"
   ]
  },
  {
   "cell_type": "code",
   "execution_count": 96,
   "metadata": {},
   "outputs": [],
   "source": [
    "train_gen = data_gen.flow(x_train, y_train, shuffle = True)\n",
    "test_gen  = data_gen.flow(x_test, y_test)"
   ]
  },
  {
   "cell_type": "code",
   "execution_count": 97,
   "metadata": {},
   "outputs": [
    {
     "name": "stdout",
     "output_type": "stream",
     "text": [
      "Epoch 1/50\n",
      "46/45 [==============================] - 4s 91ms/step - loss: 1.2011 - acc: 0.6019 - val_loss: 0.6125 - val_acc: 0.8173\n",
      "Epoch 2/50\n",
      "46/45 [==============================] - 1s 26ms/step - loss: 0.5870 - acc: 0.8152 - val_loss: 0.3676 - val_acc: 0.9014\n",
      "Epoch 3/50\n",
      "46/45 [==============================] - 1s 24ms/step - loss: 0.4310 - acc: 0.8655 - val_loss: 0.3127 - val_acc: 0.9231\n",
      "Epoch 4/50\n",
      "46/45 [==============================] - 1s 24ms/step - loss: 0.4160 - acc: 0.8825 - val_loss: 0.2779 - val_acc: 0.9231\n",
      "Epoch 5/50\n",
      "46/45 [==============================] - 1s 24ms/step - loss: 0.3484 - acc: 0.8974 - val_loss: 0.2210 - val_acc: 0.9375\n",
      "Epoch 6/50\n",
      "46/45 [==============================] - ETA: 0s - loss: 0.3102 - acc: 0.907 - 1s 23ms/step - loss: 0.3194 - acc: 0.9029 - val_loss: 0.2047 - val_acc: 0.9471\n",
      "Epoch 7/50\n",
      "46/45 [==============================] - 1s 23ms/step - loss: 0.3213 - acc: 0.9083 - val_loss: 0.2245 - val_acc: 0.9327\n",
      "Epoch 8/50\n",
      "46/45 [==============================] - 1s 23ms/step - loss: 0.2948 - acc: 0.9158 - val_loss: 0.2094 - val_acc: 0.9447\n",
      "Epoch 9/50\n",
      "46/45 [==============================] - 1s 24ms/step - loss: 0.2432 - acc: 0.9375 - val_loss: 0.1462 - val_acc: 0.9519\n",
      "Epoch 10/50\n",
      "46/45 [==============================] - 1s 23ms/step - loss: 0.2423 - acc: 0.9287 - val_loss: 0.1809 - val_acc: 0.9447\n",
      "Epoch 11/50\n",
      "46/45 [==============================] - 1s 25ms/step - loss: 0.2061 - acc: 0.9429 - val_loss: 0.1936 - val_acc: 0.9423\n",
      "Epoch 12/50\n",
      "46/45 [==============================] - 1s 23ms/step - loss: 0.2209 - acc: 0.9300 - val_loss: 0.1340 - val_acc: 0.9639\n",
      "Epoch 13/50\n",
      "46/45 [==============================] - 1s 25ms/step - loss: 0.2438 - acc: 0.9266 - val_loss: 0.1231 - val_acc: 0.9760\n",
      "Epoch 14/50\n",
      "46/45 [==============================] - 1s 24ms/step - loss: 0.1770 - acc: 0.9477 - val_loss: 0.1496 - val_acc: 0.9543\n",
      "Epoch 15/50\n",
      "46/45 [==============================] - 1s 25ms/step - loss: 0.2155 - acc: 0.9395 - val_loss: 0.1522 - val_acc: 0.9591\n",
      "Epoch 16/50\n",
      "46/45 [==============================] - 1s 24ms/step - loss: 0.2338 - acc: 0.9266 - val_loss: 0.1550 - val_acc: 0.9423\n",
      "Epoch 17/50\n",
      "46/45 [==============================] - 1s 23ms/step - loss: 0.2047 - acc: 0.9395 - val_loss: 0.1637 - val_acc: 0.9591\n",
      "Epoch 18/50\n",
      "46/45 [==============================] - 1s 24ms/step - loss: 0.2079 - acc: 0.9463 - val_loss: 0.1210 - val_acc: 0.9688\n",
      "Epoch 19/50\n",
      "46/45 [==============================] - 1s 23ms/step - loss: 0.1949 - acc: 0.9402 - val_loss: 0.1211 - val_acc: 0.9712\n",
      "Epoch 20/50\n",
      "46/45 [==============================] - 1s 24ms/step - loss: 0.1745 - acc: 0.9470 - val_loss: 0.2082 - val_acc: 0.9327\n",
      "Epoch 21/50\n",
      "46/45 [==============================] - 1s 23ms/step - loss: 0.2294 - acc: 0.9293 - val_loss: 0.1689 - val_acc: 0.9519\n",
      "Epoch 22/50\n",
      "46/45 [==============================] - 1s 24ms/step - loss: 0.1912 - acc: 0.9436 - val_loss: 0.1246 - val_acc: 0.9591\n",
      "Epoch 23/50\n",
      "46/45 [==============================] - 1s 24ms/step - loss: 0.1816 - acc: 0.9484 - val_loss: 0.0858 - val_acc: 0.9784\n",
      "Epoch 24/50\n",
      "46/45 [==============================] - 1s 25ms/step - loss: 0.1714 - acc: 0.9497 - val_loss: 0.0877 - val_acc: 0.9736\n",
      "Epoch 25/50\n",
      "46/45 [==============================] - 1s 24ms/step - loss: 0.1719 - acc: 0.9524 - val_loss: 0.1036 - val_acc: 0.9750\n",
      "Epoch 26/50\n",
      "46/45 [==============================] - 1s 24ms/step - loss: 0.1838 - acc: 0.9389 - val_loss: 0.1349 - val_acc: 0.9567\n",
      "Epoch 27/50\n",
      "46/45 [==============================] - 1s 25ms/step - loss: 0.1723 - acc: 0.9463 - val_loss: 0.1052 - val_acc: 0.9688\n",
      "Epoch 28/50\n",
      "46/45 [==============================] - 1s 24ms/step - loss: 0.1927 - acc: 0.9470 - val_loss: 0.1346 - val_acc: 0.9639\n",
      "Epoch 29/50\n",
      "46/45 [==============================] - 1s 27ms/step - loss: 0.1965 - acc: 0.9436 - val_loss: 0.1147 - val_acc: 0.9712\n",
      "Epoch 30/50\n",
      "46/45 [==============================] - 1s 24ms/step - loss: 0.1588 - acc: 0.9565 - val_loss: 0.1138 - val_acc: 0.9663\n",
      "Epoch 31/50\n",
      "46/45 [==============================] - 1s 24ms/step - loss: 0.1704 - acc: 0.9490 - val_loss: 0.1285 - val_acc: 0.9615\n",
      "Epoch 32/50\n",
      "46/45 [==============================] - 1s 25ms/step - loss: 0.1636 - acc: 0.9538 - val_loss: 0.1122 - val_acc: 0.9712\n",
      "Epoch 33/50\n",
      "46/45 [==============================] - 1s 25ms/step - loss: 0.1701 - acc: 0.9511 - val_loss: 0.0990 - val_acc: 0.9784\n",
      "Epoch 34/50\n",
      "46/45 [==============================] - 1s 25ms/step - loss: 0.1374 - acc: 0.9620 - val_loss: 0.1087 - val_acc: 0.9615\n",
      "Epoch 35/50\n",
      "46/45 [==============================] - 1s 25ms/step - loss: 0.1536 - acc: 0.9518 - val_loss: 0.1435 - val_acc: 0.9471\n",
      "Epoch 36/50\n",
      "46/45 [==============================] - 1s 25ms/step - loss: 0.1641 - acc: 0.9579 - val_loss: 0.1156 - val_acc: 0.9615\n",
      "Epoch 37/50\n",
      "46/45 [==============================] - 1s 25ms/step - loss: 0.1449 - acc: 0.9565 - val_loss: 0.0774 - val_acc: 0.9688\n",
      "Epoch 38/50\n",
      "46/45 [==============================] - 1s 24ms/step - loss: 0.1479 - acc: 0.9579 - val_loss: 0.0946 - val_acc: 0.9712\n",
      "Epoch 39/50\n",
      "46/45 [==============================] - 1s 25ms/step - loss: 0.1425 - acc: 0.9572 - val_loss: 0.0942 - val_acc: 0.9712\n",
      "Epoch 40/50\n",
      "46/45 [==============================] - 1s 25ms/step - loss: 0.1311 - acc: 0.9606 - val_loss: 0.0721 - val_acc: 0.9784\n",
      "Epoch 41/50\n",
      "46/45 [==============================] - 1s 25ms/step - loss: 0.1577 - acc: 0.9490 - val_loss: 0.0848 - val_acc: 0.9760\n",
      "Epoch 42/50\n",
      "46/45 [==============================] - 1s 24ms/step - loss: 0.1556 - acc: 0.9579 - val_loss: 0.1204 - val_acc: 0.9591\n",
      "Epoch 43/50\n",
      "46/45 [==============================] - 1s 24ms/step - loss: 0.1400 - acc: 0.9579 - val_loss: 0.0940 - val_acc: 0.9736\n",
      "Epoch 44/50\n",
      "46/45 [==============================] - 1s 24ms/step - loss: 0.1324 - acc: 0.9606 - val_loss: 0.0907 - val_acc: 0.9615\n",
      "Epoch 45/50\n",
      "46/45 [==============================] - 1s 25ms/step - loss: 0.1525 - acc: 0.9511 - val_loss: 0.1144 - val_acc: 0.9712\n",
      "Epoch 46/50\n",
      "46/45 [==============================] - 1s 25ms/step - loss: 0.1379 - acc: 0.9654 - val_loss: 0.1031 - val_acc: 0.9615\n",
      "Epoch 47/50\n",
      "46/45 [==============================] - 1s 24ms/step - loss: 0.1316 - acc: 0.9552 - val_loss: 0.0732 - val_acc: 0.9736\n",
      "Epoch 48/50\n",
      "46/45 [==============================] - 1s 24ms/step - loss: 0.1328 - acc: 0.9565 - val_loss: 0.1167 - val_acc: 0.9663\n",
      "Epoch 49/50\n",
      "46/45 [==============================] - 1s 23ms/step - loss: 0.1335 - acc: 0.9620 - val_loss: 0.0800 - val_acc: 0.9725\n",
      "Epoch 50/50\n",
      "46/45 [==============================] - 1s 25ms/step - loss: 0.1467 - acc: 0.9531 - val_loss: 0.1159 - val_acc: 0.9543\n"
     ]
    },
    {
     "data": {
      "text/plain": [
       "<keras.callbacks.History at 0x18db02e5e80>"
      ]
     },
     "execution_count": 97,
     "metadata": {},
     "output_type": "execute_result"
    }
   ],
   "source": [
    "model.fit_generator(generator=train_gen,\n",
    "                    steps_per_epoch=45.75,\n",
    "                    validation_data=test_gen,\n",
    "                    validation_steps=12.4,\n",
    "                    verbose=1,\n",
    "                    shuffle=True,\n",
    "                    epochs=50\n",
    "                        )"
   ]
  },
  {
   "cell_type": "code",
   "execution_count": null,
   "metadata": {},
   "outputs": [],
   "source": [
    "model.save_weights(\"./weights/model{}.h5\".format(str(time())[4:-8]))"
   ]
  },
  {
   "cell_type": "code",
   "execution_count": null,
   "metadata": {},
   "outputs": [],
   "source": []
  }
 ],
 "metadata": {
  "kernelspec": {
   "display_name": "Python 3",
   "language": "python",
   "name": "python3"
  },
  "language_info": {
   "codemirror_mode": {
    "name": "ipython",
    "version": 3
   },
   "file_extension": ".py",
   "mimetype": "text/x-python",
   "name": "python",
   "nbconvert_exporter": "python",
   "pygments_lexer": "ipython3",
   "version": "3.7.3"
  }
 },
 "nbformat": 4,
 "nbformat_minor": 2
}
